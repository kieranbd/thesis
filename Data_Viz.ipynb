{
 "cells": [
  {
   "cell_type": "markdown",
   "metadata": {},
   "source": [
    "### Mimic Pivot Table for Tracker Data"
   ]
  },
  {
   "cell_type": "code",
   "execution_count": 56,
   "metadata": {},
   "outputs": [],
   "source": [
    "import pandas as pd\n",
    "import numpy as np\n",
    "import matplotlib.pyplot as plt"
   ]
  },
  {
   "cell_type": "code",
   "execution_count": 57,
   "metadata": {},
   "outputs": [
    {
     "data": {
      "text/html": [
       "<div>\n",
       "<style scoped>\n",
       "    .dataframe tbody tr th:only-of-type {\n",
       "        vertical-align: middle;\n",
       "    }\n",
       "\n",
       "    .dataframe tbody tr th {\n",
       "        vertical-align: top;\n",
       "    }\n",
       "\n",
       "    .dataframe thead th {\n",
       "        text-align: right;\n",
       "    }\n",
       "</style>\n",
       "<table border=\"1\" class=\"dataframe\">\n",
       "  <thead>\n",
       "    <tr style=\"text-align: right;\">\n",
       "      <th></th>\n",
       "      <th>Clip</th>\n",
       "      <th>Res</th>\n",
       "      <th>Res Group</th>\n",
       "      <th>Tracker</th>\n",
       "      <th>IOU_Thresh</th>\n",
       "      <th>Dist_Thresh</th>\n",
       "      <th>SOTP</th>\n",
       "      <th>SOTA</th>\n",
       "      <th>Recall</th>\n",
       "      <th>Precision</th>\n",
       "      <th>...</th>\n",
       "      <th>FPS</th>\n",
       "      <th>fp_count</th>\n",
       "      <th>fp_thresh_count</th>\n",
       "      <th>tp_count</th>\n",
       "      <th>fn_count</th>\n",
       "      <th>tn_count</th>\n",
       "      <th>N_objects</th>\n",
       "      <th>N_frames</th>\n",
       "      <th>N_match</th>\n",
       "      <th>TR</th>\n",
       "    </tr>\n",
       "  </thead>\n",
       "  <tbody>\n",
       "    <tr>\n",
       "      <td>0</td>\n",
       "      <td>Bike03</td>\n",
       "      <td>1504</td>\n",
       "      <td>High</td>\n",
       "      <td>csrt</td>\n",
       "      <td>0.4</td>\n",
       "      <td>0.1</td>\n",
       "      <td>0.0300</td>\n",
       "      <td>1.0000</td>\n",
       "      <td>1.0000</td>\n",
       "      <td>0.7865</td>\n",
       "      <td>...</td>\n",
       "      <td>18.70</td>\n",
       "      <td>19</td>\n",
       "      <td>0</td>\n",
       "      <td>70</td>\n",
       "      <td>0</td>\n",
       "      <td>0</td>\n",
       "      <td>70</td>\n",
       "      <td>90</td>\n",
       "      <td>70</td>\n",
       "      <td>1.000</td>\n",
       "    </tr>\n",
       "    <tr>\n",
       "      <td>1</td>\n",
       "      <td>Slalom01</td>\n",
       "      <td>1504</td>\n",
       "      <td>High</td>\n",
       "      <td>csrt</td>\n",
       "      <td>0.4</td>\n",
       "      <td>0.1</td>\n",
       "      <td>0.1390</td>\n",
       "      <td>0.4242</td>\n",
       "      <td>0.4242</td>\n",
       "      <td>0.4242</td>\n",
       "      <td>...</td>\n",
       "      <td>22.88</td>\n",
       "      <td>0</td>\n",
       "      <td>57</td>\n",
       "      <td>42</td>\n",
       "      <td>0</td>\n",
       "      <td>0</td>\n",
       "      <td>99</td>\n",
       "      <td>100</td>\n",
       "      <td>99</td>\n",
       "      <td>1.000</td>\n",
       "    </tr>\n",
       "    <tr>\n",
       "      <td>2</td>\n",
       "      <td>Ski03</td>\n",
       "      <td>1920</td>\n",
       "      <td>High</td>\n",
       "      <td>csrt</td>\n",
       "      <td>0.4</td>\n",
       "      <td>0.1</td>\n",
       "      <td>0.0130</td>\n",
       "      <td>1.0000</td>\n",
       "      <td>1.0000</td>\n",
       "      <td>1.0000</td>\n",
       "      <td>...</td>\n",
       "      <td>15.61</td>\n",
       "      <td>0</td>\n",
       "      <td>0</td>\n",
       "      <td>1113</td>\n",
       "      <td>0</td>\n",
       "      <td>0</td>\n",
       "      <td>1113</td>\n",
       "      <td>1114</td>\n",
       "      <td>1113</td>\n",
       "      <td>1.000</td>\n",
       "    </tr>\n",
       "    <tr>\n",
       "      <td>3</td>\n",
       "      <td>Bike09</td>\n",
       "      <td>1920</td>\n",
       "      <td>High</td>\n",
       "      <td>csrt</td>\n",
       "      <td>0.4</td>\n",
       "      <td>0.1</td>\n",
       "      <td>0.0177</td>\n",
       "      <td>0.4218</td>\n",
       "      <td>0.4218</td>\n",
       "      <td>0.9286</td>\n",
       "      <td>...</td>\n",
       "      <td>16.67</td>\n",
       "      <td>11</td>\n",
       "      <td>0</td>\n",
       "      <td>143</td>\n",
       "      <td>196</td>\n",
       "      <td>86</td>\n",
       "      <td>339</td>\n",
       "      <td>437</td>\n",
       "      <td>143</td>\n",
       "      <td>0.422</td>\n",
       "    </tr>\n",
       "    <tr>\n",
       "      <td>4</td>\n",
       "      <td>Ski04</td>\n",
       "      <td>1920</td>\n",
       "      <td>High</td>\n",
       "      <td>csrt</td>\n",
       "      <td>0.4</td>\n",
       "      <td>0.1</td>\n",
       "      <td>0.0116</td>\n",
       "      <td>1.0000</td>\n",
       "      <td>1.0000</td>\n",
       "      <td>1.0000</td>\n",
       "      <td>...</td>\n",
       "      <td>16.22</td>\n",
       "      <td>0</td>\n",
       "      <td>0</td>\n",
       "      <td>253</td>\n",
       "      <td>0</td>\n",
       "      <td>0</td>\n",
       "      <td>253</td>\n",
       "      <td>254</td>\n",
       "      <td>253</td>\n",
       "      <td>1.000</td>\n",
       "    </tr>\n",
       "  </tbody>\n",
       "</table>\n",
       "<p>5 rows × 27 columns</p>\n",
       "</div>"
      ],
      "text/plain": [
       "       Clip   Res Res Group Tracker  IOU_Thresh  Dist_Thresh    SOTP    SOTA  \\\n",
       "0    Bike03  1504      High    csrt         0.4          0.1  0.0300  1.0000   \n",
       "1  Slalom01  1504      High    csrt         0.4          0.1  0.1390  0.4242   \n",
       "2     Ski03  1920      High    csrt         0.4          0.1  0.0130  1.0000   \n",
       "3    Bike09  1920      High    csrt         0.4          0.1  0.0177  0.4218   \n",
       "4     Ski04  1920      High    csrt         0.4          0.1  0.0116  1.0000   \n",
       "\n",
       "   Recall  Precision  ...    FPS  fp_count  fp_thresh_count  tp_count  \\\n",
       "0  1.0000     0.7865  ...  18.70        19                0        70   \n",
       "1  0.4242     0.4242  ...  22.88         0               57        42   \n",
       "2  1.0000     1.0000  ...  15.61         0                0      1113   \n",
       "3  0.4218     0.9286  ...  16.67        11                0       143   \n",
       "4  1.0000     1.0000  ...  16.22         0                0       253   \n",
       "\n",
       "   fn_count  tn_count  N_objects  N_frames  N_match     TR  \n",
       "0         0         0         70        90       70  1.000  \n",
       "1         0         0         99       100       99  1.000  \n",
       "2         0         0       1113      1114     1113  1.000  \n",
       "3       196        86        339       437      143  0.422  \n",
       "4         0         0        253       254      253  1.000  \n",
       "\n",
       "[5 rows x 27 columns]"
      ]
     },
     "execution_count": 57,
     "metadata": {},
     "output_type": "execute_result"
    }
   ],
   "source": [
    "df = pd.read_csv('All_results_with_res_groups.csv', sep=',', index_col=None); df.head()"
   ]
  },
  {
   "cell_type": "markdown",
   "metadata": {},
   "source": [
    "### Loop through this line to mass produce the data required for the plots\n",
    "Where SOTP and High are is where we loop through things"
   ]
  },
  {
   "cell_type": "code",
   "execution_count": 12,
   "metadata": {},
   "outputs": [
    {
     "data": {
      "text/plain": [
       "Tracker\n",
       "csrt          0.023437\n",
       "goturn        0.266165\n",
       "kcf           0.009248\n",
       "medianflow    0.170104\n",
       "mil           0.104206\n",
       "mosse         0.023836\n",
       "tld           0.211819\n",
       "Name: SOTP, dtype: float64"
      ]
     },
     "execution_count": 12,
     "metadata": {},
     "output_type": "execute_result"
    }
   ],
   "source": [
    "ser = df.groupby(['Tracker']).SOTP.mean(); ser"
   ]
  },
  {
   "cell_type": "markdown",
   "metadata": {},
   "source": [
    "### VIZZES"
   ]
  },
  {
   "cell_type": "code",
   "execution_count": 27,
   "metadata": {},
   "outputs": [],
   "source": [
    "N = 7\n",
    "# means for each res group for each tracker\n",
    "high_means = df.groupby(['Tracker', 'Res Group']).SOTP.mean().unstack().loc[:,('High')]\n",
    "mid_means = df.groupby(['Tracker', 'Res Group']).SOTP.mean().unstack().loc[:,('Mid')]\n",
    "low_means = df.groupby(['Tracker', 'Res Group']).SOTP.mean().unstack().loc[:,('Low')]\n",
    "# means for each tracker\n",
    "mean_means = df.groupby(['Tracker']).SOTP.mean()\n",
    "\n",
    "#trackers = ('csrt', 'goturn', 'kcf', 'medianflow', 'mil', 'mosse', 'tld')\n",
    "trackers = tuple(high_means.index)\n",
    "groups = ('High', 'Mid', 'Low', 'Tracker Mean')"
   ]
  },
  {
   "cell_type": "code",
   "execution_count": 87,
   "metadata": {},
   "outputs": [
    {
     "data": {
      "image/png": "[encoded data removed]",
      "text/plain": [
       "<Figure size 360x216 with 1 Axes>"
      ]
     },
     "metadata": {
      "needs_background": "light"
     },
     "output_type": "display_data"
    }
   ],
   "source": [
    "fig, ax = plt.subplots(figsize=(5,3))\n",
    "# fig.subplots_adjust(hspace = .5, wspace=.15)\n",
    "ind = np.arange(N)\n",
    "width = 0.22\n",
    "\n",
    "colours = ['#9ed5cd', '#44a7cb', '#2e62a1', '#192574']\n",
    "\n",
    "p1 = ax.bar(ind, high_means, width, bottom=0, color=colours[0])\n",
    "p2 = ax.bar(ind+width, mid_means, width, bottom=0, color=colours[1])\n",
    "p3 = ax.bar(ind+2*width, low_means, width, bottom=0, color=colours[2])\n",
    "p4 = ax.bar(ind+3*width, mean_means, width, bottom=0, color=colours[3])\n",
    "\n",
    "\n",
    "ax.set_title('Average SOTP per Tracker and Res Group')\n",
    "ax.set_xticks(ind + 1.5*width)\n",
    "ax.set_xticklabels(trackers)\n",
    "\n",
    "ax.legend((p1[0], p2[0], p3[0], p4[0]), groups)\n",
    "ax.autoscale_view()\n",
    "\n",
    "plt.show()"
   ]
  },
  {
   "cell_type": "code",
   "execution_count": 78,
   "metadata": {},
   "outputs": [],
   "source": [
    "dict = {'first': ['sub1', 'sub2']}"
   ]
  },
  {
   "cell_type": "code",
   "execution_count": 79,
   "metadata": {},
   "outputs": [
    {
     "data": {
      "text/plain": [
       "'sub1'"
      ]
     },
     "execution_count": 79,
     "metadata": {},
     "output_type": "execute_result"
    }
   ],
   "source": [
    "dict['first'][0]"
   ]
  },
  {
   "cell_type": "code",
   "execution_count": 91,
   "metadata": {},
   "outputs": [
    {
     "data": {
      "image/png": "[encoded data removed]",
      "text/plain": [
       "<Figure size 885.6x1152 with 12 Axes>"
      ]
     },
     "metadata": {
      "needs_background": "light"
     },
     "output_type": "display_data"
    }
   ],
   "source": [
    "fig, axs = plt.subplots(6,2, figsize=(12.3, 16), sharex=True)\n",
    "fig.subplots_adjust(hspace = .55, wspace=.25)\n",
    "\n",
    "trackers = ('csrt', 'goturn', 'kcf', 'medianflow', 'mil', 'mosse', 'tld')\n",
    "groups = ('High', 'Mid', 'Low', 'Tracker Mean')\n",
    "\n",
    "# metrics = ('SOTP','Recall','Precision','FPF','SODP','MT','PT','ML','FM','FPS')\n",
    "metrics = ('SOTP','Recall','Precision','FPF','SODP','Completeness','MT','PT','ML','FM','FPS','TR')\n",
    "count = 1\n",
    "\n",
    "for ax, m in zip(axs.ravel(), metrics):\n",
    "    \n",
    "    # means for each res group for each tracker\n",
    "    high_means = df.groupby(['Tracker', 'Res Group'])[m].mean().unstack().loc[:,('High')]\n",
    "    mid_means = df.groupby(['Tracker', 'Res Group'])[m].mean().unstack().loc[:,('Mid')]\n",
    "    low_means = df.groupby(['Tracker', 'Res Group'])[m].mean().unstack().loc[:,('Low')]\n",
    "    # means for each tracker\n",
    "    mean_means = df.groupby(['Tracker'])[m].mean()\n",
    "    \n",
    "    width = 0.22\n",
    "    \n",
    "    colours = ['#9ed5cd', '#44a7cb', '#2e62a1', '#192574']\n",
    "\n",
    "    p1 = ax.bar(ind, high_means, width, bottom=0, color=colours[0])\n",
    "    p2 = ax.bar(ind+width, mid_means, width, bottom=0, color=colours[1])\n",
    "    p3 = ax.bar(ind+2*width, low_means, width, bottom=0, color=colours[2])\n",
    "    p4 = ax.bar(ind+3*width, mean_means, width, bottom=0, color=colours[3])\n",
    "    \n",
    "    def better(x):\n",
    "        return {\n",
    "            'SOTP': ['Lower', '\\u2193'],\n",
    "            'Recall': ['Higher', '\\u2191'],\n",
    "            'Precision': ['Higher', '\\u2191'],\n",
    "            'FPF': ['Lower', '\\u2193'],\n",
    "            'SODP': ['Higher', '\\u2191'],\n",
    "            'Completeness': ['Higher', '\\u2191'],\n",
    "            'MT': ['Higher', '\\u2191'],\n",
    "            'PT': ['Lower', '\\u2193'],\n",
    "            'ML': ['Lower', '\\u2193'],\n",
    "            'FM': ['Lower', '\\u2193'],\n",
    "            'FPS': ['Higher', '\\u2191'],\n",
    "            'TR': ['Higher', '\\u2191']\n",
    "        }[x]\n",
    "\n",
    "    ax.set_title('Mean ' + str(m) + ' per Tracker per Res Group (' + better(m)[1] + ')')\n",
    "    ax.set_xticks(ind + width)\n",
    "    ax.set_xticklabels(trackers)\n",
    "    \n",
    "    ax.set_xlabel('Tracker Name') if count == 11 or count == 12 else None\n",
    "    ax.set_ylabel('Frames per second') if count == 11 else None\n",
    "    \n",
    "    ax.legend((p1[0], p2[0], p3[0], p4[0]), groups, loc='upper left') if count == 1 else None\n",
    "    ax.autoscale_view()\n",
    "    count += 1\n",
    "\n",
    "fig.savefig('/Users/kierandonnelly/Google Drive/Masters 2018 - \\\n",
    "Kieran Donnelly (Data Science)/Reports/Report_LaTeX/Images/backups/trk-results-graphs.png', bbox_inches='tight')"
   ]
  },
  {
   "cell_type": "markdown",
   "metadata": {},
   "source": [
    "### Practice and Storage Area"
   ]
  },
  {
   "cell_type": "code",
   "execution_count": null,
   "metadata": {},
   "outputs": [],
   "source": [
    "ser = df.groupby(['Tracker', 'Res Group']).SOTP.mean()\n",
    "ser"
   ]
  },
  {
   "cell_type": "code",
   "execution_count": null,
   "metadata": {},
   "outputs": [],
   "source": [
    "temp = ser.unstack(); temp"
   ]
  },
  {
   "cell_type": "code",
   "execution_count": 11,
   "metadata": {},
   "outputs": [
    {
     "data": {
      "text/html": [
       "<div>\n",
       "<style scoped>\n",
       "    .dataframe tbody tr th:only-of-type {\n",
       "        vertical-align: middle;\n",
       "    }\n",
       "\n",
       "    .dataframe tbody tr th {\n",
       "        vertical-align: top;\n",
       "    }\n",
       "\n",
       "    .dataframe thead tr th {\n",
       "        text-align: left;\n",
       "    }\n",
       "\n",
       "    .dataframe thead tr:last-of-type th {\n",
       "        text-align: right;\n",
       "    }\n",
       "</style>\n",
       "<table border=\"1\" class=\"dataframe\">\n",
       "  <thead>\n",
       "    <tr>\n",
       "      <th></th>\n",
       "      <th colspan=\"3\" halign=\"left\">SOTP</th>\n",
       "    </tr>\n",
       "    <tr>\n",
       "      <th>Res Group</th>\n",
       "      <th>High</th>\n",
       "      <th>Low</th>\n",
       "      <th>Mid</th>\n",
       "    </tr>\n",
       "    <tr>\n",
       "      <th>Tracker</th>\n",
       "      <th></th>\n",
       "      <th></th>\n",
       "      <th></th>\n",
       "    </tr>\n",
       "  </thead>\n",
       "  <tbody>\n",
       "    <tr>\n",
       "      <td>csrt</td>\n",
       "      <td>0.016517</td>\n",
       "      <td>0.012767</td>\n",
       "      <td>0.041028</td>\n",
       "    </tr>\n",
       "    <tr>\n",
       "      <td>goturn</td>\n",
       "      <td>0.234024</td>\n",
       "      <td>0.258129</td>\n",
       "      <td>0.306341</td>\n",
       "    </tr>\n",
       "    <tr>\n",
       "      <td>kcf</td>\n",
       "      <td>0.010072</td>\n",
       "      <td>0.008200</td>\n",
       "      <td>0.009472</td>\n",
       "    </tr>\n",
       "    <tr>\n",
       "      <td>medianflow</td>\n",
       "      <td>0.136200</td>\n",
       "      <td>0.206894</td>\n",
       "      <td>0.167217</td>\n",
       "    </tr>\n",
       "    <tr>\n",
       "      <td>mil</td>\n",
       "      <td>0.112506</td>\n",
       "      <td>0.089639</td>\n",
       "      <td>0.110472</td>\n",
       "    </tr>\n",
       "    <tr>\n",
       "      <td>mosse</td>\n",
       "      <td>0.025418</td>\n",
       "      <td>0.028060</td>\n",
       "      <td>0.019771</td>\n",
       "    </tr>\n",
       "    <tr>\n",
       "      <td>tld</td>\n",
       "      <td>0.209228</td>\n",
       "      <td>0.242356</td>\n",
       "      <td>0.183872</td>\n",
       "    </tr>\n",
       "  </tbody>\n",
       "</table>\n",
       "</div>"
      ],
      "text/plain": [
       "                SOTP                    \n",
       "Res Group       High       Low       Mid\n",
       "Tracker                                 \n",
       "csrt        0.016517  0.012767  0.041028\n",
       "goturn      0.234024  0.258129  0.306341\n",
       "kcf         0.010072  0.008200  0.009472\n",
       "medianflow  0.136200  0.206894  0.167217\n",
       "mil         0.112506  0.089639  0.110472\n",
       "mosse       0.025418  0.028060  0.019771\n",
       "tld         0.209228  0.242356  0.183872"
      ]
     },
     "execution_count": 11,
     "metadata": {},
     "output_type": "execute_result"
    }
   ],
   "source": [
    "pivot = pd.pivot_table(df, index=['Tracker'], columns=['Res Group'], aggfunc=np.mean, values=['SOTP']); pivot"
   ]
  }
 ],
 "metadata": {
  "kernelspec": {
   "display_name": "Python Thesis Env",
   "language": "python",
   "name": "thesis_env"
  },
  "language_info": {
   "codemirror_mode": {
    "name": "ipython",
    "version": 3
   },
   "file_extension": ".py",
   "mimetype": "text/x-python",
   "name": "python",
   "nbconvert_exporter": "python",
   "pygments_lexer": "ipython3",
   "version": "3.6.9"
  }
 },
 "nbformat": 4,
 "nbformat_minor": 4
}
