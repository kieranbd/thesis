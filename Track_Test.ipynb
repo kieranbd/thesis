{
 "cells": [
  {
   "cell_type": "code",
   "execution_count": 2,
   "metadata": {},
   "outputs": [],
   "source": [
    "# boring technical stuff\n",
    "import os, sys\n",
    "import random\n",
    "import time\n",
    "import imutils\n",
    "import math\n",
    "import numpy as np\n",
    "import pandas as pd\n",
    "import skimage.io\n",
    "import matplotlib\n",
    "import matplotlib.pyplot as plt\n",
    "import cv2\n",
    "from matplotlib.patches import Polygon"
   ]
  },
  {
   "cell_type": "markdown",
   "metadata": {},
   "source": [
    "### List of trackers to run through for each video file"
   ]
  },
  {
   "cell_type": "code",
   "execution_count": null,
   "metadata": {},
   "outputs": [],
   "source": [
    "trackers = {'boosting': cv2.TrackerBoosting_create(),\n",
    "                'mil': cv2.TrackerMIL_create(),\n",
    "                'kcf': cv2.TrackerKCF_create(),\n",
    "                'tld': cv2.TrackerTLD_create(),\n",
    "                'medianflow': cv2.TrackerMedianFlow_create(),\n",
    "                'goturn': cv2.TrackerGOTURN_create(),\n",
    "                'mosse': cv2.TrackerMOSSE_create(),\n",
    "                'csrt': cv2.TrackerCSRT_create()}\n",
    "                # 're3': re3_tracker.Re3Tracker(),\n",
    "                # 'pysot': base_tracker.BaseTracker()}"
   ]
  },
  {
   "cell_type": "code",
   "execution_count": null,
   "metadata": {},
   "outputs": [],
   "source": [
    "clips = {'Bike02': '/Users/kierandonnelly/thesis/raw_clips/Bike02.mp4',\n",
    "        'Bike03': '/Users/kierandonnelly/thesis/raw_clips/Bike03.mp4',\n",
    "        'Bike05': '/Users/kierandonnelly/thesis/raw_clips/Bike05.mp4',\n",
    "        'Bike07': '/Users/kierandonnelly/thesis/raw_clips/Bike07.mp4',\n",
    "        'Bike08': '/Users/kierandonnelly/thesis/raw_clips/Bike08.mp4',\n",
    "        'Bike09': '/Users/kierandonnelly/thesis/raw_clips/Bike09.mp4',\n",
    "        'Ski01': '/Users/kierandonnelly/thesis/raw_clips/Ski01.mp4',\n",
    "        'Ski02': '/Users/kierandonnelly/thesis/raw_clips/Ski02.mp4',\n",
    "        'Ski03': '/Users/kierandonnelly/thesis/raw_clips/Ski03.mp4',\n",
    "        'Snowboard01': '/Users/kierandonnelly/thesis/raw_clips/Snowboard01.mp4',\n",
    "        'Sup01': '/Users/kierandonnelly/thesis/raw_clips/Sup01.mp4',\n",
    "        'Surf01': '/Users/kierandonnelly/thesis/raw_clips/Surf01.mp4',\n",
    "        'Wake01': '/Users/kierandonnelly/thesis/raw_clips/Wake01.mp4'}"
   ]
  },
  {
   "cell_type": "markdown",
   "metadata": {},
   "source": [
    "### Iterate over videos in directory and run tracker"
   ]
  },
  {
   "cell_type": "code",
   "execution_count": null,
   "metadata": {},
   "outputs": [],
   "source": [
    "def run_track_test(input1, input2):\n",
    "    return(print(input1, input2))"
   ]
  },
  {
   "cell_type": "code",
   "execution_count": null,
   "metadata": {},
   "outputs": [],
   "source": [
    "frame_list = []\n",
    "\n",
    "# iterate over clips\n",
    "for clip, clip_loc in clips.items(): \n",
    "    \n",
    "    # retrieve frame data for clip\n",
    "    frames = pd.read_csv(str('./frame_data/'+str(filename)+'.csv'))\n",
    "    \n",
    "    # iterate over tracker dictionary\n",
    "    for tracker, tracker_inst in trackers.items(): \n",
    "\n",
    "        # call tracking function\n",
    "        # need this to output the results: save to CSV from within fn\n",
    "        run_track_test(tracker, tracker_inst, clip_loc, frames)"
   ]
  },
  {
   "cell_type": "markdown",
   "metadata": {},
   "source": [
    "### Import ground truth annotation data for each video"
   ]
  },
  {
   "cell_type": "code",
   "execution_count": 3,
   "metadata": {},
   "outputs": [
    {
     "data": {
      "text/html": [
       "<div>\n",
       "<style scoped>\n",
       "    .dataframe tbody tr th:only-of-type {\n",
       "        vertical-align: middle;\n",
       "    }\n",
       "\n",
       "    .dataframe tbody tr th {\n",
       "        vertical-align: top;\n",
       "    }\n",
       "\n",
       "    .dataframe thead th {\n",
       "        text-align: right;\n",
       "    }\n",
       "</style>\n",
       "<table border=\"1\" class=\"dataframe\">\n",
       "  <thead>\n",
       "    <tr style=\"text-align: right;\">\n",
       "      <th></th>\n",
       "      <th>frame</th>\n",
       "      <th>x1</th>\n",
       "      <th>y1</th>\n",
       "      <th>w</th>\n",
       "      <th>h</th>\n",
       "    </tr>\n",
       "  </thead>\n",
       "  <tbody>\n",
       "    <tr>\n",
       "      <th>0</th>\n",
       "      <td>1.0</td>\n",
       "      <td>0.479388</td>\n",
       "      <td>0.439716</td>\n",
       "      <td>0.035904</td>\n",
       "      <td>0.143026</td>\n",
       "    </tr>\n",
       "    <tr>\n",
       "      <th>1</th>\n",
       "      <td>2.0</td>\n",
       "      <td>0.479388</td>\n",
       "      <td>0.439716</td>\n",
       "      <td>0.034574</td>\n",
       "      <td>0.166667</td>\n",
       "    </tr>\n",
       "    <tr>\n",
       "      <th>2</th>\n",
       "      <td>3.0</td>\n",
       "      <td>0.478723</td>\n",
       "      <td>0.442080</td>\n",
       "      <td>0.033910</td>\n",
       "      <td>0.145390</td>\n",
       "    </tr>\n",
       "    <tr>\n",
       "      <th>3</th>\n",
       "      <td>4.0</td>\n",
       "      <td>0.475399</td>\n",
       "      <td>0.442080</td>\n",
       "      <td>0.038564</td>\n",
       "      <td>0.140662</td>\n",
       "    </tr>\n",
       "    <tr>\n",
       "      <th>4</th>\n",
       "      <td>5.0</td>\n",
       "      <td>0.472739</td>\n",
       "      <td>0.443262</td>\n",
       "      <td>0.039229</td>\n",
       "      <td>0.150118</td>\n",
       "    </tr>\n",
       "  </tbody>\n",
       "</table>\n",
       "</div>"
      ],
      "text/plain": [
       "   frame        x1        y1         w         h\n",
       "0    1.0  0.479388  0.439716  0.035904  0.143026\n",
       "1    2.0  0.479388  0.439716  0.034574  0.166667\n",
       "2    3.0  0.478723  0.442080  0.033910  0.145390\n",
       "3    4.0  0.475399  0.442080  0.038564  0.140662\n",
       "4    5.0  0.472739  0.443262  0.039229  0.150118"
      ]
     },
     "execution_count": 3,
     "metadata": {},
     "output_type": "execute_result"
    }
   ],
   "source": [
    "videos_df = pd.read_csv(\"./frame_data/Bike05.csv\"); videos_df.head()"
   ]
  },
  {
   "cell_type": "code",
   "execution_count": 4,
   "metadata": {},
   "outputs": [],
   "source": [
    "frames = pd.read_csv(str('./frame_data/Bike03.csv'))\n",
    "frame_count = 3"
   ]
  },
  {
   "cell_type": "code",
   "execution_count": 5,
   "metadata": {},
   "outputs": [
    {
     "data": {
      "text/html": [
       "<div>\n",
       "<style scoped>\n",
       "    .dataframe tbody tr th:only-of-type {\n",
       "        vertical-align: middle;\n",
       "    }\n",
       "\n",
       "    .dataframe tbody tr th {\n",
       "        vertical-align: top;\n",
       "    }\n",
       "\n",
       "    .dataframe thead th {\n",
       "        text-align: right;\n",
       "    }\n",
       "</style>\n",
       "<table border=\"1\" class=\"dataframe\">\n",
       "  <thead>\n",
       "    <tr style=\"text-align: right;\">\n",
       "      <th></th>\n",
       "      <th>frame</th>\n",
       "      <th>x1</th>\n",
       "      <th>y1</th>\n",
       "      <th>w</th>\n",
       "      <th>h</th>\n",
       "    </tr>\n",
       "  </thead>\n",
       "  <tbody>\n",
       "    <tr>\n",
       "      <th>0</th>\n",
       "      <td>1.0</td>\n",
       "      <td>0.006649</td>\n",
       "      <td>0.178487</td>\n",
       "      <td>0.067819</td>\n",
       "      <td>0.117021</td>\n",
       "    </tr>\n",
       "    <tr>\n",
       "      <th>1</th>\n",
       "      <td>2.0</td>\n",
       "      <td>0.018617</td>\n",
       "      <td>0.186761</td>\n",
       "      <td>0.067154</td>\n",
       "      <td>0.112293</td>\n",
       "    </tr>\n",
       "    <tr>\n",
       "      <th>2</th>\n",
       "      <td>3.0</td>\n",
       "      <td>0.034574</td>\n",
       "      <td>0.193853</td>\n",
       "      <td>0.064495</td>\n",
       "      <td>0.106383</td>\n",
       "    </tr>\n",
       "    <tr>\n",
       "      <th>3</th>\n",
       "      <td>4.0</td>\n",
       "      <td>0.043883</td>\n",
       "      <td>0.198582</td>\n",
       "      <td>0.068484</td>\n",
       "      <td>0.115839</td>\n",
       "    </tr>\n",
       "    <tr>\n",
       "      <th>4</th>\n",
       "      <td>5.0</td>\n",
       "      <td>0.057181</td>\n",
       "      <td>0.210402</td>\n",
       "      <td>0.068484</td>\n",
       "      <td>0.105201</td>\n",
       "    </tr>\n",
       "  </tbody>\n",
       "</table>\n",
       "</div>"
      ],
      "text/plain": [
       "   frame        x1        y1         w         h\n",
       "0    1.0  0.006649  0.178487  0.067819  0.117021\n",
       "1    2.0  0.018617  0.186761  0.067154  0.112293\n",
       "2    3.0  0.034574  0.193853  0.064495  0.106383\n",
       "3    4.0  0.043883  0.198582  0.068484  0.115839\n",
       "4    5.0  0.057181  0.210402  0.068484  0.105201"
      ]
     },
     "execution_count": 5,
     "metadata": {},
     "output_type": "execute_result"
    }
   ],
   "source": [
    "frames.head()"
   ]
  },
  {
   "cell_type": "code",
   "execution_count": 6,
   "metadata": {},
   "outputs": [
    {
     "data": {
      "text/plain": [
       "x1    0.034574\n",
       "y1    0.193853\n",
       "w     0.064495\n",
       "h     0.106383\n",
       "Name: 2, dtype: float64"
      ]
     },
     "execution_count": 6,
     "metadata": {},
     "output_type": "execute_result"
    }
   ],
   "source": [
    "init_bb = frames.loc[frames['frame'] == frame_count].squeeze()[1:]; init_bb"
   ]
  },
  {
   "cell_type": "code",
   "execution_count": 9,
   "metadata": {},
   "outputs": [
    {
     "data": {
      "text/plain": [
       "True"
      ]
     },
     "execution_count": 9,
     "metadata": {},
     "output_type": "execute_result"
    }
   ],
   "source": [
    "(frames['frame'] == frame_count).any()"
   ]
  },
  {
   "cell_type": "code",
   "execution_count": 17,
   "metadata": {},
   "outputs": [],
   "source": [
    "test = False"
   ]
  },
  {
   "cell_type": "code",
   "execution_count": 19,
   "metadata": {},
   "outputs": [
    {
     "name": "stdout",
     "output_type": "stream",
     "text": [
      "success\n"
     ]
    }
   ],
   "source": [
    "if ~test:\n",
    "    print('success')"
   ]
  },
  {
   "cell_type": "markdown",
   "metadata": {},
   "source": [
    "### Function to implement tracking on one video sequence"
   ]
  },
  {
   "cell_type": "code",
   "execution_count": null,
   "metadata": {},
   "outputs": [],
   "source": [
    "# this runs once per clip per tracker\n",
    "# lists declared and modified here pertain to one clip\n",
    "def run_track(tracker_name, tracker_inst, video_file, frames_df, resize=1):\n",
    "    '''\n",
    "    Runs a specified tracking algorithm on a specified video \\\n",
    "    file and evaluates tracker performance by comparing system \\\n",
    "    output to specified ground truth bounding boxes.\n",
    "    \n",
    "    Parameters:\n",
    "    \n",
    "    tracker_name (str): short name of tracking algo\n",
    "    tracker_inst: instantiation of tracker class\n",
    "    video_file: (str): path to video file\n",
    "    frames_df (pd.DataFrame): DF of ground truth objects in video clip\n",
    "    resize (int): fraction to which video should be resized (1, 2 or 4). 1 = unchanged (Def), 2 = 1/2, 4 = 1/4\n",
    "    '''\n",
    "    \n",
    "    # CONSTANTS\n",
    "    THRESHOLD_IOU, THRESHOLD_DIST = 0.5, 0.2\n",
    "    \n",
    "    # initialise vars\n",
    "    frame_count = frames_df['frame'].min()\n",
    "    fn_count, fp_count, fp_thresh_count, tp_count, tn_count, covered_count = 0, 0, 0, 0, 0, 0\n",
    "    tracker_fps = 0\n",
    "    iou_list, dist_list, metrics_list = [], [], []\n",
    "    tracking_failed = None\n",
    "    \n",
    "    # Initialize the video stream and pointer to output video file\n",
    "    vs = cv2.VideoCapture(video_file)\n",
    "    \n",
    "    # run until no more frames\n",
    "    while True:\n",
    "        # read the next frame from the file\n",
    "        grabbed, frame = vs.read()\n",
    "        \n",
    "        # boolean for whether there is a ground truth object in the frame\n",
    "        object_exists = (frames_df['frame'] == frame_count).any()\n",
    "\n",
    "        # if no frame grabbed, reached end of clip\n",
    "        if not grabbed:\n",
    "            print (\"Not grabbed!\")\n",
    "            break\n",
    "            \n",
    "        # video native dimensions\n",
    "        orig_width = frame.shape[1]\n",
    "        orig_height = frame.shape[0]\n",
    "\n",
    "        # will resize the frame for faster processing\n",
    "        new_width = int(orig_width/resize)\n",
    "        new_height = int(orig_height/resize)\n",
    "        frame = imutils.resize(frame, new_width) # ie if resize is 2, width resized to orig_width/2\n",
    "        \n",
    "        # number of rows in frames determine number of objects, N_objects\n",
    "        N_objects = len(frames_df.index)\n",
    "        \n",
    "        # bb for ground truth obj (relative values)\n",
    "        gt_bb = frames_df.loc[frames_df['frame'] == frame_count].squeeze()[1:]\n",
    "        \n",
    "        # multiply with resized frame width and height (absolute values)\n",
    "        gt_bb *= (new_width, new_height, new_width, new_height)\n",
    "        \n",
    "        # initialize the writer\n",
    "        if writer is None:\n",
    "            fourcc = cv2.VideoWriter_fourcc(*\"MP4V\")\n",
    "            fps = vs.get(5)\n",
    "            print(\"FPS = \" + str(fps))\n",
    "            writer = cv2.VideoWriter(\"output/\" + args[\"inputVideo\"] + \"_\" + \\\n",
    "                                     args[\"tracker\"] + \".mp4\", fourcc, fps, \\\n",
    "                                     (frame.shape[1], frame.shape[0]), True)\n",
    "            \n",
    "        # start timer for fps metric\n",
    "        # detectorTime = time.time()\n",
    "        \n",
    "        if tracker is None:\n",
    "            # create tracker object\n",
    "            tracker = tracker_inst\n",
    "            \n",
    "            # initialise with bounding box\n",
    "            tracker.init(frame, gt_bb)\n",
    "        else: \n",
    "            tracker_time = time.time()\n",
    "            \n",
    "            # update the tracker and grab the tracked object\n",
    "            tracking, trk_bb = tracker.update(frame)\n",
    "            \n",
    "            # will need modifications for trackers outside of OpenCV-8\n",
    "            if tracking is None:\n",
    "                if ~object_exists:\n",
    "                    # true negative\n",
    "                    tn_count++\n",
    "                    \n",
    "                elif object_exists:\n",
    "                    # false negative\n",
    "                    fn_count++\n",
    "\n",
    "                    # failure\n",
    "                    cv2.putText(frame, \"Tracking failure detected\", (100, 80),\\\n",
    "                                cv2.FONT_HERSHEY_SIMPLEX, 0.75,(0,0,255),2)\n",
    "                    tracking_failed = True\n",
    "           \n",
    "            elif tracking:\n",
    "                if object_exists:\n",
    "                    iou_t, dist_t = compute_iou_dist(gt_bb, trk_bb) # pass them in (x1, y1, w, h) format\n",
    "                    \n",
    "                    if dist_t < THRESHOLD_DIST:\n",
    "                        # false positive\n",
    "                        fp_thresh_count++\n",
    "                        \n",
    "                    elif dist_t >= THRESHOLD_DIST:\n",
    "                        # true positive\n",
    "                        tp_count++\n",
    "                        \n",
    "                    iou_list.append(iou_t)\n",
    "                    dist_list.append(dist_t)\n",
    "                    \n",
    "                elif ~object_exists:\n",
    "                    # false positive\n",
    "                    fp_count++\n",
    "                \n",
    "                # tracking taken place, so draw frame\n",
    "                p1 = (int(trk_bb[0]), int(trk_bb[1]))\n",
    "                p2 = (int(trk_bb[0] + trk_bb[2]), int(trk_bb[1] + trk_bb[3]))\n",
    "                cv2.rectangle(frame, p1, p2, (255, 0, 0), 2, 1)\n",
    "                tracking_failed = False\n",
    "            \n",
    "            # logging purposes\n",
    "            if ~tracking_failed:\n",
    "                print(\"[INFO] Tracker running at \" +\\\n",
    "                      str(1/(time.time() - trackerTime)) + \" fps\")\n",
    "            \n",
    "            tracking_fps += 1/(time.time() - trackerTime)\n",
    "                \n",
    "        # completeness metrics\n",
    "        if iou_t >= THRESHOLD_IOU:\n",
    "            covered_count++\n",
    "                \n",
    "        # increment frame counter\n",
    "        frame_count += 1\n",
    "        \n",
    "        # write the frame to disk\n",
    "        if writer is not None:\n",
    "            writer.write(frame)\n",
    "        \n",
    "        # call metrics function - returns dictionary of metrics\n",
    "        metrics = compute_metrics(fp_thresh_count, fp_count, tp_count, tn_count, fn_count, \\\n",
    "                                  covered_count, dist_list, iou_list, N_objects, N_frames, \\\n",
    "                                  tracking_fps, clip_name, resolution, tracker_name)\n",
    "        metrics_list.append(metrics)\n",
    "    \n",
    "    # convert list of metrics dicts to df\n",
    "    results_df = pd.DataFrame(metrics_list, columns=['Clip', 'Res', 'Tracker', 'Duration', 'SOTP', 'SOTA', 'Recall',\\\n",
    "                                                     'Precision', 'FPF', 'SODP', 'MT', 'ML', 'PT', 'FM', 'FPS'])\n",
    "    \n",
    "    \n",
    "    # save to CSV\n",
    "    results_df.to_csv('metrics.csv', index=False)"
   ]
  },
  {
   "cell_type": "markdown",
   "metadata": {},
   "source": [
    "## Evaluation Metrics\n",
    "This section defines functions to compute the various evaluation metrics detailed in Chapter 3 in the report. The metrics to compute are as follows:\n",
    "- Recall: Correctly matched detections as proportion of total ground truth objects (of a sequence).\n",
    "- Precision/N-SODA: Correctly matched detections as a proportion of total detections (of a sequence).\n",
    "- FAF: Number of false alarms (incorrect detections) per frame averaged over a sequence.\n",
    "- SODP: Average overlap between ground truth and system output.\n",
    "- SOTA: Combines false negatives and false positives without weighting factors.\n",
    "- SOTP: Average distance between centroids of ground truth and system output.\n",
    "- TDE: Distance beetween the ground-truth annotation and the tracking result.\n",
    "- MT: The ground-truth trajectory is covered by the tracker output for more than 80% of its length.\n",
    "- ML: The ground-truth trajectory is covered by the tracker output for less than 20% of its length.\n",
    "- PT: The ground-truth trajectory is covered by the tracker output for between 20% and 80% of its length.\n",
    "- FM: Number of times that a ground-truth trajectory is interrupted in the tracking result, normalised over sequence.\n",
    "- RS: Ratio of tracks which correctly recover from short term occlusion.\n",
    "- RL: Ratio of tracks which correctly recover from long term occlusion.\n",
    "\n",
    "### Terminology\n",
    "- **Success**: aka True Positive. Overlap between ground truth and tracker hypothesis is non-zero and within threshold.\n",
    "- **Success**: aka True Negative. No object and no hypothesis.\n",
    "- **Miss**: aka False Negative. No hypothesis from tracker.\n",
    "- **False Positive**: Overlap between tracker output and ground truth is less than threshold.\n",
    "- **Distance**: Euclidean distance between centroids of tracker output and ground truth.\n",
    "- **Covered**: Overlap exceeds THRESHOLD_IOU"
   ]
  },
  {
   "cell_type": "markdown",
   "metadata": {},
   "source": [
    "### Function to Compute Each Metric"
   ]
  },
  {
   "cell_type": "markdown",
   "metadata": {},
   "source": [
    "#### Intersection over Union (IoU) and Distance Between Centroids"
   ]
  },
  {
   "cell_type": "code",
   "execution_count": 1,
   "metadata": {},
   "outputs": [],
   "source": [
    "def compute_iou_dist(box_a, box_b):\n",
    "    \n",
    "    # compute centroids (x1 + half width, y1 + half height)\n",
    "    centroid_a = (box_a[0] + 0.5*box_a[2], box_a[1] + 0.5*box_a[3])\n",
    "    centroid_b = (box_b[0] + 0.5*box_b[2], box_b[1] + 0.5*box_b[3])\n",
    "    \n",
    "    # (x1, y1, x1+w, y1+h) -> (x1, y1, x2, y2)\n",
    "    box_a = (box_a[0], box_a[1], box_a[0] + box_a[2], box_a[1] + box_a[3])\n",
    "    box_b = (box_b[0], box_b[1], box_b[0] + box_b[2], box_b[1] + box_b[3])\n",
    "    \n",
    "    # determine the (x, y)-coordinates of the intersection rectangle\n",
    "    x_a = max(box_a[0], box_b[0])\n",
    "    y_a = max(box_a[1], box_b[1])\n",
    "    x_b = min(box_a[2], box_b[2])\n",
    "    y_b = min(box_a[3], box_b[3])\n",
    "\n",
    "    # compute the area of intersection rectangle\n",
    "    area_overlap = max(0, x_b - x_a + 1) * max(0, y_b - y_a + 1)\n",
    "\n",
    "    # compute the area of both the prediction and ground-truth rectangles\n",
    "    area_box_a = (box_a[2] - box_a[0] + 1) * (box_a[3] - box_a[1] + 1)\n",
    "    area_box_b = (box_b[2] - box_b[0] + 1) * (box_b[3] - box_b[1] + 1)\n",
    "\n",
    "    # compute the intersection over union by taking the intersection\n",
    "    # area and dividing it by the sum of prediction + ground-truth\n",
    "    # areas - the interesection area\n",
    "    iou = area_overlap / float(area_box_a + area_box_b - area_overlap)\n",
    "    \n",
    "    # distance is hypotenuse of two centroid coordinates\n",
    "    dist = math.hypot(centroid_b[0] - centroid_a[0], centroid_b[1] - centroid_a[1])\n",
    "\n",
    "    # return the intersection over union value\n",
    "    return iou, dist"
   ]
  },
  {
   "cell_type": "markdown",
   "metadata": {},
   "source": [
    "#### 1. SOTP - Single Object Tracking Precision, or Average Distance\n",
    "Average distance between boxes only on frames with both an object and a hypothesis, i.e.:\n",
    "- `fp_thresh_count`\n",
    "- `tp_count`\n",
    "\n",
    "`dist_t` should be forced to zero for frames with any results outside of the above (fp, tn, fn)."
   ]
  },
  {
   "cell_type": "code",
   "execution_count": 3,
   "metadata": {},
   "outputs": [],
   "source": [
    "def metric_sotp(dist_list, fp_thresh_count, tp_count):\n",
    "    total_dist = sum(distances)\n",
    "    positives = fp_thresh_count + tp_count\n",
    "    return (total_dist/positives)"
   ]
  },
  {
   "cell_type": "markdown",
   "metadata": {},
   "source": [
    "#### 2. SOTA"
   ]
  },
  {
   "cell_type": "code",
   "execution_count": 13,
   "metadata": {},
   "outputs": [],
   "source": [
    "def metric_sota(fp_thresh_count, fp_count, fn_count, N_objects):\n",
    "    return 1 - (fp_thresh_count + fp_count + fn_count)/(N_objects)"
   ]
  },
  {
   "cell_type": "markdown",
   "metadata": {},
   "source": [
    "#### 3. Recall"
   ]
  },
  {
   "cell_type": "code",
   "execution_count": null,
   "metadata": {},
   "outputs": [],
   "source": [
    "def metric_recall(tp_count, N_objects):\n",
    "    return tp_count/N_objects"
   ]
  },
  {
   "cell_type": "markdown",
   "metadata": {},
   "source": [
    "#### 4. Precision"
   ]
  },
  {
   "cell_type": "code",
   "execution_count": 6,
   "metadata": {},
   "outputs": [],
   "source": [
    "def metric_recall(tp_count, fp_thresh_count, fp_count):\n",
    "    return tp_count/(tp_count + fp_count + fp_thresh_count)"
   ]
  },
  {
   "cell_type": "markdown",
   "metadata": {},
   "source": [
    "#### 5. FPF, False Positives per Frame"
   ]
  },
  {
   "cell_type": "code",
   "execution_count": 8,
   "metadata": {},
   "outputs": [],
   "source": [
    "def metric_recall(fp_count, fp_thresh_count, N_frames):\n",
    "    return tp_count/N_frames"
   ]
  },
  {
   "cell_type": "markdown",
   "metadata": {},
   "source": [
    "#### 6. SODP, Single Object Detection Precision"
   ]
  },
  {
   "cell_type": "code",
   "execution_count": 9,
   "metadata": {},
   "outputs": [],
   "source": [
    "def metric_sodp(iou_list, N_match):\n",
    "    total_iou = sum(iou_list)\n",
    "    return (total_iou/N_match)"
   ]
  },
  {
   "cell_type": "markdown",
   "metadata": {},
   "source": [
    "#### 7. MT"
   ]
  },
  {
   "cell_type": "code",
   "execution_count": null,
   "metadata": {},
   "outputs": [],
   "source": [
    "def metric_mt(completeness):\n",
    "    mt = 0\n",
    "    if completeness >= 0.8:\n",
    "        mt = 1\n",
    "    return mt"
   ]
  },
  {
   "cell_type": "markdown",
   "metadata": {},
   "source": [
    "#### 8. ML"
   ]
  },
  {
   "cell_type": "code",
   "execution_count": 11,
   "metadata": {},
   "outputs": [],
   "source": [
    "def metric_ml(completeness):\n",
    "    ml = 0\n",
    "    if (completeness > 0.2) and (completeness < 0.8):\n",
    "        ml = 1\n",
    "    return ml"
   ]
  },
  {
   "cell_type": "markdown",
   "metadata": {},
   "source": [
    "#### 9. PT"
   ]
  },
  {
   "cell_type": "code",
   "execution_count": 12,
   "metadata": {},
   "outputs": [],
   "source": [
    "def metric_pt(completeness):\n",
    "    pt = 0\n",
    "    if completeness <= 0.2:\n",
    "        pt = 1\n",
    "    return pt"
   ]
  },
  {
   "cell_type": "markdown",
   "metadata": {},
   "source": [
    "#### 10. FM, Fragmentation"
   ]
  },
  {
   "cell_type": "code",
   "execution_count": null,
   "metadata": {},
   "outputs": [],
   "source": [
    "def metric_fm(fp_thresh_count, fp_count, fn_count, N_objects):\n",
    "    return (fp_thresh_count + fp_count + fn_count)/(N_objects)"
   ]
  },
  {
   "cell_type": "markdown",
   "metadata": {},
   "source": [
    "### Metrics Function\n",
    "This function calculates all metrics and returns them in a dictionary"
   ]
  },
  {
   "cell_type": "code",
   "execution_count": null,
   "metadata": {},
   "outputs": [],
   "source": [
    "def compute_metrics(fp_thresh_count, fp_count, tp_count, tn_count, fn_count, \\\n",
    "                    covered_count, dist_list, iou_list, N_objects, N_frames, \\\n",
    "                    tracking_fps, clip_name, resolution, tracker_name):\n",
    "    \n",
    "    N_match = fp_thresh_count + tp_count\n",
    "    completeness = covered_count/N_match\n",
    "    \n",
    "    sotp = metric_sotp(dist_list, fp_thresh_count, tp_count)\n",
    "    sota = metric_sota(fp_thresh_count, fp_count, fn_count, N_objects)\n",
    "    recall = metric_recall(tp_count, N_objects)\n",
    "    precision = metric_precision(tp_count, fp_thresh_count, fp_count)\n",
    "    fpf = metric_fpf(fp_count, fp_thresh_count, N_frames)\n",
    "    sodp = metric_sodp(iou_list, N_match)\n",
    "    mt = metric_mt(completeness)\n",
    "    ml = mtric_ml(completeness)\n",
    "    pt = metric_pt(completeness)\n",
    "    fm = metric_fm(fp_thresh_count, fp_count, fn_count, N_objects)\n",
    "    \n",
    "    results_dict = {'Clip': clip_name,\n",
    "                    'Resolution': resolution,\n",
    "                    'Tracker': tracker_name,\n",
    "                    'Duration': N_frames,\n",
    "                    'SOTP': sotp,\n",
    "                    'SOTA': sota,\n",
    "                    'Recall': recall,\n",
    "                    'Precision': precision,\n",
    "                    'FPF': fpf,\n",
    "                    'SODP': sodp,\n",
    "                    'MT': mt,\n",
    "                    'ML': ml,\n",
    "                    'PT': pt,\n",
    "                    'FM': fm,\n",
    "                    'FPS': tracking_fps}\n",
    "    \n",
    "    return results_dict"
   ]
  }
 ],
 "metadata": {
  "kernelspec": {
   "display_name": "Python Thesis Env",
   "language": "python",
   "name": "thesis_env"
  },
  "language_info": {
   "codemirror_mode": {
    "name": "ipython",
    "version": 3
   },
   "file_extension": ".py",
   "mimetype": "text/x-python",
   "name": "python",
   "nbconvert_exporter": "python",
   "pygments_lexer": "ipython3",
   "version": "3.6.9"
  }
 },
 "nbformat": 4,
 "nbformat_minor": 4
}
